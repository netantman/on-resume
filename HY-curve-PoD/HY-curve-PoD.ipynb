{
 "cells": [
  {
   "cell_type": "markdown",
   "id": "52a09a7d",
   "metadata": {},
   "source": [
    "<font color=red> **Simplify the below** </font>"
   ]
  },
  {
   "cell_type": "markdown",
   "id": "e9d48fe9",
   "metadata": {},
   "source": [
    "Besides pricing, curves are also a product of BVAL. We have found issues on the HY curves, especially on the short- and long-end, as those usually display large price discrepancies. In terms of background, what we built are 6% YTM bullet-equivalent curves. And the old methodology is, after normalized for options, amount outstanding, coupon etc, we fit the YTM using a global log-linear model.\n",
    "\n",
    "The curve on the short end is usually too rich, especially for lower rating or distressed bond, since it does not take into account recovery trading and acceleration of debt effect for distressed.\n",
    "\n",
    "To fit the belly portion of the bonds, the curve log-linearly extrapolate to the long-end, which usually becomes too cheap.\n",
    "\n",
    "We set out to revamp the curve methodology in order to tackle and reduce these pricing errors.\n",
    "\n",
    "The approach we take, inspired by what happens on the short-end, is to explicitly extract the term structure of survival probability and making recovery assumptions explicit in building the curve.\n",
    "\n",
    "The risk-free discount factor is obtained via bootstrapping the government bonds in the corresponding currency. Note that for some, e.g. EUR and CHF, the discount factor may not be downward sloping.\n",
    "\n",
    "We tried specifying piecewise constant hazard rate, but find that somewhat an exponential spline is better, especially for EUR and CHF. (There is a more recent parametric specification on survival probability that we intend to try next.)\n",
    "\n",
    "We fit all the bonds of different capital structure of the same ticker (to enlarge the data set), we use the same survival probability term structure and put recoveries as free parameters. To maintain a soft constraint on recoveries across cap structures, we specify priors of recovery in the optimization.\n",
    "\n",
    "We are able to reduce pricing errors - and mis-priced bonds typically revert in future in our backtesting. But the shape of the YTM curve transformed from the risky discount curve does not appeal to product owner's eyes, especially for those negative-yielding currencies."
   ]
  }
 ],
 "metadata": {
  "kernelspec": {
   "display_name": "Python 3 (ipykernel)",
   "language": "python",
   "name": "python3"
  },
  "language_info": {
   "codemirror_mode": {
    "name": "ipython",
    "version": 3
   },
   "file_extension": ".py",
   "mimetype": "text/x-python",
   "name": "python",
   "nbconvert_exporter": "python",
   "pygments_lexer": "ipython3",
   "version": "3.9.7"
  }
 },
 "nbformat": 4,
 "nbformat_minor": 5
}
