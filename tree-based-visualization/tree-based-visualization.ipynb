{
 "cells": [
  {
   "cell_type": "markdown",
   "id": "0e27b001",
   "metadata": {},
   "source": [
    "## Situation and Task\n",
    "- **Background**: \n",
    "    - By 'mispricing', we mean the **pnl of long the instrument if the signal reverts to its long-term mean**.\n",
    "        - **'Signal'** here means IV in d/e and the basis in the basis trade.\n",
    "        - The pnl is approximated by the divergence of the signal times the sensitivity. **Sensitivity** is vega for d/e and basis01 for basis.\n",
    "        - The **sign** is set such that the **long credit position is cheap when the mispricing is positive**.\n",
    "    - Sorting by mispricing shows how rich/cheap longing that instrument is compared to itself historically, but we would like to have an **efficient way for cross-sectional comparison**.\n",
    "- **Task**: besides a table allowing sorting the mispricing, devise another report summarizing cross-sectional comparison."
   ]
  },
  {
   "cell_type": "markdown",
   "id": "62968ce7",
   "metadata": {},
   "source": [
    "## Action\n",
    "\n",
    "The decision tree is a simple machine learning model, which can tell you **which segment of the data has the highest/lowest value of interest**.\n",
    "- As an analogy, imagine a pizza crust where you randomly spray cheeze on. Suppose you want to know which portion on the pizza has the highest cheeze intensity. Then decision tree is an algorithm that first performs a cut that separate two parts one with the most cheeze as possible, and the other has least cheese as possible. It then perform further cuts in the remaining parts to further separate in the sub parts between the most and the least.\n",
    "- So to our problem, decision tree is an **automatic way** to tell you, e.g. all bonds in HY Communications look cheap, or all bonds in IG Techonologies looks rich, especially between 5-7y maturity.\n",
    "- Another perk of decision tree is that it supports **hierarchical visualization** for user to see how regions broken down into sub-regions, so that it is clear **on sight which sub-region of that region is richest/cheapest**."
   ]
  },
  {
   "cell_type": "markdown",
   "id": "39b7f1f2",
   "metadata": {},
   "source": [
    "## Resolution\n",
    "- **Achievement**\n",
    "    - The tool brings about **faster sizing decisions**\n",
    "        - If the rich/cheapness is **broad-based**, and the fundamentals checks out that this mis-pricing should be transient, then we are free to **express the view using multiple instruments in the same segments**.\n",
    "        - If the rich/cheapness **confines to just one instrument**, that could mean the mean-reversion signal is stronger (maybe half-life will be shorter), and we should **set bigger trading size on this one instrument**.\n",
    "        - We unfortunately are not able to backtest on the above, since there is **no capability to replay historical model inputs/outputs with fundamental data conveniently**.\n",
    "- **Takeaway**: using models to solve new problem once again is fruitful."
   ]
  }
 ],
 "metadata": {
  "kernelspec": {
   "display_name": "Python 3 (ipykernel)",
   "language": "python",
   "name": "python3"
  },
  "language_info": {
   "codemirror_mode": {
    "name": "ipython",
    "version": 3
   },
   "file_extension": ".py",
   "mimetype": "text/x-python",
   "name": "python",
   "nbconvert_exporter": "python",
   "pygments_lexer": "ipython3",
   "version": "3.9.7"
  }
 },
 "nbformat": 4,
 "nbformat_minor": 5
}
