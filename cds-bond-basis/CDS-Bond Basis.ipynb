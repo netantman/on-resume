{
 "cells": [
  {
   "cell_type": "markdown",
   "id": "bd6d940b",
   "metadata": {},
   "source": [
    "## What is the CDS-Bond basis and what drives it?"
   ]
  },
  {
   "cell_type": "markdown",
   "id": "5664454b",
   "metadata": {},
   "source": [
    "At Barclays (or formerly Lehman Brothers), the basis is defined as CDS spread (to equivalent maturity) minus BCDS Spread. \n",
    "\n",
    "Note:\n",
    "- Indutry standard may use the **Z-spread** in place of the BCDS spread, which is called 'raw spread' in Chapter 7 of [Morgan Stanley Credit Insights](https://www.evernote.com/shard/s191/nl/21353936/35eb5274-fadd-cea2-f38a-9275ffa755f7?title=Morgan%20Stanley%20Credit%20Insights%20(2015)). Since CDS recovery (and thus payoff) is with respect to par, traders may buy/sell more/less protection depending on the dollar price of the cash bonds. As such Chapter 7 of [Morgan Stanley Credit Insights](https://www.evernote.com/shard/s191/nl/21353936/35eb5274-fadd-cea2-f38a-9275ffa755f7?title=Morgan%20Stanley%20Credit%20Insights%20(2015)) adjust for the basis to reflect that, and arrives at an **adjusted basis**, which arguably is more executable than the raw basis.\n",
    "- Some may use **ASW spread** for fixed bonds and **par floater** spread for floating-rate bonds.\n",
    "- But Barclays argues **BCDS spread** makes more sense. In particular the **BCDS makes the dependence on recovery rate explicit**. \n",
    "    - Indeed, the Z spread does not take recovery assumption and acceleration of debt at default into consideration, while the bond-implied CDS spread is explicit about its recovery assumption as pricing the usual CDS spread: and depending on whether the bond is premium or discount, the relationship between BCDS and assumed recovery rate can be reversed; the effect means that even if the Z-spread of a discount bond is lower than the same-maturity CDS spread, the bond may still be cheap compared with the CDS. See discussion in the BCDS section in [returns-spread-yield](../../bond-math/returns-spreads-yields.ipynb). \n",
    "    - One can presumably extend the BCDS spread to adjust for dollar price of the bond too.\n",
    "\n",
    "Below are the factors driving the basis, though some of them are probably artificial due to the usage of Z spread or OAS spread.\n",
    "\n",
    "Fundamental reasons for **negative basis** (when CDS < bond spread $\\leftrightarrow$ bonds are relatively cheap)\n",
    "- *Funding*: CDS are implicitly funded at Fed Funds/OIS, through its synthetic nature and margin requirements. Bond are typically funded at Libor plus a (positive) spread. Thus bonds are more balance-sheet intensive, which tends to lead to higher bond spreads. But funding for bonds is usually hard: maintaining a long bond position over that horizon requires committing the purchase price of the bond for five years or borrowing the purchase price through repo for several years; similarly, maintaining a short bond position over a multi-year horizon would require finding a counterparty willing to lend that bond long term and face the risk that the bond would be needed, perhaps to raise funds, at some interim time. \n",
    "- *Leverage*: CDS risk margin may be lower than bond haircuts.\n",
    "- *Premium accrued at default*: Following a credit event, a CDS pays the protection seller the premium which has accrued since the previous payment date. However, when a bond defaults, the owner’s claim is on the face value, and so any accrued coupons are lost. The effect on the inclusion of coupon accrued on default is to lower the CDS spread and so reduce the basis. Even if a bondholder’s claim for accrued interest is recognized, the bond-holder will not receive the full amount but only the amount multiplied by the recovery rate. In contrast, in a standard CDS contract the protection seller will be paid the full premium accrued between the last payment date and the default event. This technicality will also bias CDS spread downward.\n",
    "- *Synthetic CDO technical short*: When dealers issue synthetic CDOs, they then hedge their spread risk by selling CDS credit protection on each of the 100 or more credits in the reference portfolio. CDO issuance is therefore usually accompanied by a tightening (reduction) in CDS spread.\n",
    "- *Default Correlation between counterparties*: the protection buyer is subject to the default correlation between the protection seller and the reference entity. This counterparty credit risk reduces the CDS premium that the protection buyer is willing to pay.\n",
    "- *Daycount convention*: a technicality. A CDS spread is based on the Actual/360 daycount convention, while for Z spread the market convention is 30/360 (same as corp cash bonds). This effect alone means that the CDS spread should be roughly 1.5bp lower than the Z-spread and OAS for each 100bp.\n",
    "- *Payment frequency*: another technicality. A CDS spread is based on quarterly payments. The market convention for Z-spread is semiannual compounding. One measure of the effect of the payment frequency is that a 100bp CDS with quarterly payments corresponds in value to a 100.7bp CDS with semi-annual payments and a 99.3bp CDS with continuous payments; that is, the higher frequency of payment bias CDS spread downward.\n",
    "- *Forced selling of bonds*. There are occasions where bonds are subject to forced selling while the corresponding CDS is not. \n",
    "    - For instance, fallen angels are excluded from the IG index and are subsequently sold by investors with constraints, such as insurance firms or some mutual funds. This forced selling will make bond artificially cheap for a while; see more detailed discussion on this topic in Chapters 2 and 3 of [Systematic Investing in Credit](https://www.evernote.com/shard/s191/nl/21353936/8739ce4a-eba6-3100-230f-b0bd8f70c427?title=Systematic%20Investing%20in%20Credit). \n",
    "    - For fallen angels, trading the bond-CDS basis is considered to be a better hedged version of the longing the cash bond outright.\n",
    "\n",
    "Fundamental reason for **positive basis** (when CDS > bond spread $\\leftrightarrow$ when bonds are relatively expensive)\n",
    "- *CDS is efficient shorting mechanism for investors*: it is difficult to short cash bonds - and thus more people want to pay fixed to buy protection, propping up CDS spread. This effect is most apparent if there is negative news on a credit, it will tend to result in a flurry of protection buying in the CDS market thus increasing the CDS basis. \n",
    "    - This includes a case where the CDS/equities market leads the bonds market, which will render the basis reverting to mean.\n",
    "- *Risk of Technical Default*: Default swaps may be triggered by events which do not constitute a full default of the corresponding cash asset, e.g. Restructuring. This probably does not impact bond price, but takes a toll on the CDS spread.\n",
    "- *Cheapest to delivery option*: the standard CDS contract gives a protection buyer an option to choose a delivery instrument from a basket of deliverable securities in exchange of par from the protection seller in case of default; for this option, the protection buyer needs to pay more. \n",
    "    - It should be noted that the *modR* and *modmodR* clauses in the ISDA 2014 Credit Derivatives Definitions impose limitation on the maturity of the bonds deliverable. Since long-maturity bonds tend to be cheap when the name is in distress, modR and modmodR limits the cheapest-to-deliver option to some extend.\n",
    "- *CDS cannot go negative (for high rated credits)*: In the case of an asset swap or par floater, it is possible to show that if the credit quality of the issuer is better than AA-rated commercial banks, the spread over Libor paid by the bond may be negative. For example, it is possible to asset swap a US Treasury bond and find that the asset swap spread is negative. However, CDS spreads can never go negative as the protection seller is taking on the default risk of the reference entity and, though small, the probability of triggering can never be negative. The CDS spread must at the very least cover the administration costs of the CDS trade.\n",
    "\n",
    "**There are also forces that will make the basis revert back to $0$**.\n",
    "- *Loss on default*: The protection payment on a CDS following a credit event is a fraction $(1 − R)$ of the face value of the contract. The default risk on a bond (or asset swap) purchased at a full price of $P$ is to a loss of $P − R$. \n",
    "     > If basis is negative, or bonds are cheap, i.e. $P<1$, then in the credit event the loss on bond will be small relative to CDS, and it makes bond more attrative relative to CDS, which will prop up the bond price, and basis will go up.\n",
    "     \n",
    "     > If basis is positive, or bonds are expensive, i.e. $P>1$, then in the credit event the loss on bond will be big relative to CDS, and it makes bond less attrative relative to CDS, which will push down the bond price, and basis will go down.\n",
    "  \n",
    "  Essentially, this just mean that fractional recovery of par assumption (FRP) is forced upon traders during default; see the details of FRP in [this notebook](credit-models-and-analytics). The impact above is mitigated by considering the adjusted basis as desribed above. "
   ]
  },
  {
   "cell_type": "markdown",
   "id": "95bcf991",
   "metadata": {},
   "source": [
    " "
   ]
  },
  {
   "cell_type": "markdown",
   "id": "4840501a",
   "metadata": {},
   "source": [
    "## What are the factors that impact the term structure of basis?"
   ]
  },
  {
   "cell_type": "markdown",
   "id": "cdff1e57",
   "metadata": {},
   "source": [
    "Chapter 7 of [Morgan Stanley Credit Insights](https://www.evernote.com/shard/s191/nl/21353936/35eb5274-fadd-cea2-f38a-9275ffa755f7?title=Morgan%20Stanley%20Credit%20Insights%20(2015)) identifies **rates and funding** as one important factor.\n",
    "\n",
    "- On the bond side, IG premium corporate bond tends to have higher spreads than discounts, and whether a bond is premium or discount depends on the bond coupon and rates. At the maturtity increase, so is the dollar price of a premium bond, and this penalizing effect may be more apparent. However, using BCDS to define basis should be able to mitigate this effect.\n",
    "\n",
    "- On the CDS side, Shorter-maturity CDS generally trade with a negative upfront (pay an upfront amount and then receive 100bp when selling protection), whereas the longer-maturity CDS contract is likely to trade with a positive upfront, making it more attractive for protection sellers from a funding perspective, suppressing the CDS spread on the long end."
   ]
  },
  {
   "cell_type": "markdown",
   "id": "5a61d02e",
   "metadata": {},
   "source": [
    " "
   ]
  },
  {
   "cell_type": "markdown",
   "id": "5cc62f3e",
   "metadata": {},
   "source": [
    "## Is Z spread a good rv metric?"
   ]
  },
  {
   "cell_type": "markdown",
   "id": "4f6b8246",
   "metadata": {},
   "source": [
    "No. Some of the reasons are\n",
    "- it does not take into account the recovery of the bond, or just override all recovery to 0;\n",
    "- it does not take into account the acceleration of cashflow in bond default, thereby has a bias in favoring higher coupon debt.\n",
    "\n",
    "See more discussion in this [notebook](../../fixed-income/bond-math/returns-spreads-yields.ipynb)"
   ]
  },
  {
   "cell_type": "markdown",
   "id": "2429320e",
   "metadata": {},
   "source": [
    " "
   ]
  },
  {
   "cell_type": "markdown",
   "id": "2990de5b",
   "metadata": {},
   "source": [
    "## How do you define a good rv metrics for callable bonds?"
   ]
  },
  {
   "cell_type": "markdown",
   "id": "c9f3afc3",
   "metadata": {},
   "source": [
    "- Since we are talking about callable bonds, a **callable-bond model**, or options pricer is needed, such as the **OAS calculator**.\n",
    "- Given the OAS analytics, there are at least three competing alternatives.\n",
    "    - (a) Take the default term-structure from CDS and let that be the spread component in the OAS calculator and reprice the bond: thus we have a bond theoretical - actual mispx. Take the call structure and compute the OAS duration assuming zero OAS spread. Then basis is bond mispx / zero-OAS spread.\n",
    "    - (b) Take the default term-structure from CDS and let that be the spread component in the OAS calculator. Shift the hazard rate to match theoretical price to the observed bond price. The shifted amount is the basis\n",
    "    - (c) Use the CDS tenor that has an expected life the same as the expected life of the bond, and get the BCDS on that tenor point.\n",
    "    \n",
    "- Comparisons\n",
    "    - (c) does not degenerate to non-callable bonds, so conceptually probably inconsistent.\n",
    "    - (a) is more likely to be perturbed **when there is an interest-rate regime switch, even if the bond's credit component stays unchanged**, so not ideal to produce stable signal if the underlying rate is hedged.\n",
    "        - Note that the expectation is, if one hedges interest rate perfectly, the basis signal should not be affected with the interest-rate regime switch, as the credit component does not change.\n",
    "        - But for (a), both the bond mispx and zero-OAS spread changes - though it is possible the changes cancel out, but it is still a numerical noise.\n",
    "        - (b) should be less susceptible to the noise above, if traded price and theoretical price are affected the same by the rate change, and thus that cancels out in taking the difference **(this point might still be a bit weak...)**\n",
    "    - (b) makes **better use of the shape/slope of the credit curve**.\n",
    "        - Imagine two bonds with the same call schedule, so that zero-OAS duration are the same. Further assume the two bonds have the same mispx, so that (a) are the same.\n",
    "        - Say one bond has a flatter credit curve, then (b) will have a less positive basis.\n",
    "        - This is arguably better reflecting the relative richness/cheapness btween the two bonds, as (b) will take into account the wider CDS spread at the short-end.\n",
    "    - (b) explicitly takes into account recovery inputs when comparing two bonds."
   ]
  },
  {
   "cell_type": "markdown",
   "id": "5ccdb9b6",
   "metadata": {},
   "source": [
    " "
   ]
  },
  {
   "cell_type": "markdown",
   "id": "9f023c19",
   "metadata": {},
   "source": [
    "## What are other practical considerations for trading basis in practice?"
   ]
  },
  {
   "cell_type": "markdown",
   "id": "dd14f4fd",
   "metadata": {},
   "source": [
    "- **Hedge ratio**: once the notional of cash bond is determined (probably from a trading grid), the notional of the CDS is then calculated via a hedge ratio, which renders the combo **cs01 neutral**\n",
    "    - Note that we usually do not match notional, as bond may be trading away from par; and we also want to neutralize credit risk: whether by CS01 or JTD it is open to preference.\n",
    "- **Matching maturity** and curve trades\n",
    "    - We usually want to trade 5yr CDS due to liquidity, but for bonds whose maturities are significantly different from 5yr, there is a curve trade component in the combo.\n",
    "    - That is why views on whether the curve is going to flatten or steepen, such as from looking at *DDIS < GO >* profile or whether the name is likely to be distressed or not (and curve will flatten in that case)\n",
    "- **Useful screening fields** and **market data**\n",
    "    - basis: the main signal\n",
    "    - liquidity measure, such as liquidity score, amount outstanding, daily trading volume\n",
    "    - market shares of the desk\n",
    "    - maturity\n",
    "    - Some basis are meant to be 'sit on', i.e. not really changing rapidly, while others can entertain more round-traffic: **metrics on this front would be useful**\n",
    "    - Actual example of screens can be found in this [note](https://www.evernote.com/shard/s191/nl/21353936/ca416422-5fba-4a87-8811-625e6b02f711?title=Basis%20Screen)."
   ]
  }
 ],
 "metadata": {
  "kernelspec": {
   "display_name": "Python 3 (ipykernel)",
   "language": "python",
   "name": "python3"
  },
  "language_info": {
   "codemirror_mode": {
    "name": "ipython",
    "version": 3
   },
   "file_extension": ".py",
   "mimetype": "text/x-python",
   "name": "python",
   "nbconvert_exporter": "python",
   "pygments_lexer": "ipython3",
   "version": "3.9.7"
  }
 },
 "nbformat": 4,
 "nbformat_minor": 5
}
