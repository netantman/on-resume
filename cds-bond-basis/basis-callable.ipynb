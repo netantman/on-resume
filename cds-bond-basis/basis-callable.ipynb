{
 "cells": [
  {
   "cell_type": "markdown",
   "id": "f23df63a",
   "metadata": {},
   "source": [
    "## Situation and Task\n",
    "\n",
    "We need an enhanced methodology for basis for callable bonds, so that the basis metric is more robust historically for call risk and cross-sectionally between callables and bullets.\n",
    "\n",
    "- **Background**: \n",
    "    - When we screen HY bonds for basis trades, it is inevitable that run into callable bonds. The usual basis definition will need to be enhanced to take into account **uncertainty in maturity**.\n",
    "    - The current methodology takes a two-factor model, shift hazard rate to produce BCDS, the calculate basis at a **CDS effective tenor point**, which is the CDS tenor that gives rise to the same expected life as the bond's, under the shifted two-factor model; see detailed description of (c) [here](CDS-Bond-Basis.ipynb).\n",
    "    - In practice, there are **two problems with this approach**\n",
    "        - The callable methodology above does not cleanly degenerate to the usual basis calc for bullets, where the basis is evaluated at simply the bond's maturity, as **there is no guarantee that CDS effective tenor point goes to maturity** as the callable degenerates to a bullet. Therefore, there is **theoretical inconsistency comparing bullet basis with this callable basis**.\n",
    "        - Effective life defined above is a function of both **interest rate call risk and default risk**, as such, the basis is **not immune to interest-rate call risks**; in fact, with some bonds we observe the basis trending especially when the bond is trading around call price."
   ]
  },
  {
   "cell_type": "markdown",
   "id": "5e2e05b1",
   "metadata": {},
   "source": [
    "## Action\n",
    "\n",
    "Build a joint model of interest-rate tree and credit, and define basis not relying on a **single effective-tenor**.\n",
    "\n",
    "- New methodology proposed is described in (b) in this [notebook](CDS-Bond-Basis.ipynb). Basically, the two-factor model as well as shifting hazard rate are kept, but in getting the basis, instead of trying to find an 'effective tenor', we just use the **credit triangle to translate from hazard rate shift to spread difference (the basis)**.\n",
    "\n",
    "- **Potential drawback and justification**: \n",
    "    - The translation using credit triangle may be imprecise, as **hazard rate in theory is not flat**. \n",
    "    - But in practice, the hazard rate stripped from the CDS spread is close to flat (there is likely restrictions in the stripper to not have wild hazard rate term structure anyways), and **numerically, it is found that the basis so defined is close to the original basis, while better in cases we want to improve**."
   ]
  },
  {
   "cell_type": "markdown",
   "id": "30f4dd77",
   "metadata": {},
   "source": [
    "## Resolution\n",
    "\n",
    "- **Achievement**:\n",
    "    - **By construction**, the basis, represented as the hazard rate shift, is not affected by the **underlying interest rate tree**. Indeed, by Hurst exponent, which is a metric about mean-reversion, we have **more instances of mean-reverting basis**, arguably due to **eliminating the trends during high interest-rate vol periods**.\n",
    "    - Since the **new methodology does not depends on an effective tenor**, it can show that numerically it is very close numerically when the callable degenerates to the bullet, and it is precise theoretically when the hazard rate is flat."
   ]
  }
 ],
 "metadata": {
  "kernelspec": {
   "display_name": "Python 3 (ipykernel)",
   "language": "python",
   "name": "python3"
  },
  "language_info": {
   "codemirror_mode": {
    "name": "ipython",
    "version": 3
   },
   "file_extension": ".py",
   "mimetype": "text/x-python",
   "name": "python",
   "nbconvert_exporter": "python",
   "pygments_lexer": "ipython3",
   "version": "3.9.7"
  }
 },
 "nbformat": 4,
 "nbformat_minor": 5
}
