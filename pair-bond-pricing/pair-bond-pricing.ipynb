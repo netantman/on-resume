{
 "cells": [
  {
   "cell_type": "markdown",
   "id": "c10c0034",
   "metadata": {},
   "source": [
    "<font color=red> **to change this to both corp and muni** <font> "
   ]
  },
  {
   "cell_type": "markdown",
   "id": "54b6add0",
   "metadata": {},
   "source": [
    "Bloomberg has the muni callable curve for 5% AAA issuers. It is a benchmark curve that investors look to to gauge the overall level of muni market yields. But while 5% was the prevailing rate in the muni market in the past, as the general rates plunged in recent years, investors are in strong demand of 4% or 3% muni callable curves.\n",
    "\n",
    "So our task is, based on the 5% curve that we already have, to come up with the necessary adjustments to arrive at the 4% and 3% curves.\n",
    "\n",
    "Naturally, to come up with the data, we looked where everyone would look - the first data we want to inspect are the pairs of muni bonds that are of different coupons but same call date and maturity date, and traded together.\n",
    "\n",
    "Note that we had to form the pairs of the same issuer, to cancel out the idiosyncratic credit risk of the specific issuer. The reason is, even if two issuers are of the same AAA rating, one may consistently trade at a significant positive spread against another.\n",
    "\n",
    "But to our dismay, if we impose that restriction, we quickly run into lack-of-data problems. As you may know, muni is an extremely illiquid market, since most investors are buy-and-hold. We find that day-on-day, we are lucky to find around 100 such pairs, and the yield differences on those pairs are rather noisy. We keep plowing on, and quickly decide that we can enlarge the data set by including non-AAA rating issuers (but add rating as a feature of the model). Also form pairs that differ in maturity and call date by a wider margin, say 5-10 years. In this way, we have a stabler data set each day. And more importantly, among the various machine learning models we try, they all have the capacity to learn wider data. In other words, the approach we take instead is to learn a broader model that can learn many types of pairs while making predictions only on specific pairs.\n",
    "\n",
    "This then produces the further problem that optimizing the topline accuracy metric does not guarantee the precision for the slice of data that we care about, such as pairs of bonds that differ only in coupon, or new-issue pairs. For that, we tweaked the weighting in the cost function and assign more weights for pairs with similar call date, maturity and different coupon so that they have bigger say in the trained model.\n",
    "\n",
    "At the end of the day, to accommodate interpretability, we choose the MARS model, which has the appeal like linear regression in that its trained coefficients have clear meanings and that MARS can learn non-linear relationships.\n",
    "\n",
    "All in all, It is a typical machine learning application on a fixed income problem. We are glad that it has the potential to bring in hundreds of millions of extra revenues (estimated from the case of the 5% AAA curve)."
   ]
  }
 ],
 "metadata": {
  "kernelspec": {
   "display_name": "Python 3 (ipykernel)",
   "language": "python",
   "name": "python3"
  },
  "language_info": {
   "codemirror_mode": {
    "name": "ipython",
    "version": 3
   },
   "file_extension": ".py",
   "mimetype": "text/x-python",
   "name": "python",
   "nbconvert_exporter": "python",
   "pygments_lexer": "ipython3",
   "version": "3.9.7"
  }
 },
 "nbformat": 4,
 "nbformat_minor": 5
}
