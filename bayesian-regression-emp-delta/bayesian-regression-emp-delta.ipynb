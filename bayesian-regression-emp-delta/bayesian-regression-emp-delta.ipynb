{
 "cells": [
  {
   "cell_type": "markdown",
   "id": "b8e00752",
   "metadata": {},
   "source": [
    "## Situation and Task\n",
    "\n",
    "- **Task**: find a systematic way to stablize empirical delta\n",
    "- **Background**\n",
    "    - **Empirical delta** is the **rolling regression slope** regressing **bond price point change** onto **equity price change**: it is the empirical version of a hedge ratio between bond notional and eq investment amount, which is why it is point change for bond price and percentage change for eq price.\n",
    "    - **Matching model delta with empirical delta** is one test that we can run to ascertain the correctness (or market-implied values) of model inputs such as recovery and debt-per-share.\n",
    "- **Problem**\n",
    "    - The empirical delta, being a rolling correlation metric, is **very volatile historically** to be a meaningful benchmark.\n",
    "    - Whenever the $R^2$ of the above regression is low, we want a systematic way to **fall back to user's view** where extremely safe names has high single-digit to low teen delta, while safe distressed name $20-35\\%$."
   ]
  },
  {
   "cell_type": "markdown",
   "id": "05d19965",
   "metadata": {},
   "source": [
    "## Action\n",
    "\n",
    "This is a perfect situation where **Bayesian regression** can be used.\n",
    "- Bayesian regression is to specify **Gaussian-inverse-Gamma** conjugate prior on regression coefficient and standard deviations.\n",
    "- The posterior mean of the slope is a nice **shrinkage between prior mean and the OLS estimator**\n",
    "- If we set the hyperparameters of the prior to be depending on the $R^2$ of the classical regression, i.e. in a somewhat **empirical Bayes** fashion, we have the posterior automatically compromising OLS estimate against user's view (prior)."
   ]
  },
  {
   "cell_type": "markdown",
   "id": "2cf8b773",
   "metadata": {},
   "source": [
    "## Resolution\n",
    "\n",
    "- Prior or the shrinkage serve as an anchorage, which **stablizes the time series** and reduces historical variation by $37\\%$.\n",
    "- What is more, the time series of empirical delta now stablizes **towards the user's expected value**, which is a good feature."
   ]
  },
  {
   "cell_type": "markdown",
   "id": "054b71f4",
   "metadata": {},
   "source": [
    "## Technical Details\n",
    "\n",
    "- prior: $P(\\beta|\\sigma^2)\\sim N(\\mu_0, \\sigma_0^2\\Lambda_0^{-1})$\n",
    "- posterior: $P(\\beta|\\sigma^2, X, y)\\sim N(\\mu_n, \\sigma_n^2\\Lambda_n^{-1})$, where $\\Lambda_n=(X^{\\top}X + \\Lambda_0)$, $\\mu_0=(\\Lambda_0)^{-1}(X^{\\top}X\\hat{\\beta} + \\Lambda_0\\mu_0)$.\n",
    "- As such, it suffices to just set $\\mu_0$ to be user anticipated delta value, and $\\Lambda_0$ to be $\\frac{1}{(R^2)^p}X^{\\top}X$, where $p$ is a lever we can pull to determine how aggressive the fallback should be."
   ]
  }
 ],
 "metadata": {
  "kernelspec": {
   "display_name": "Python 3 (ipykernel)",
   "language": "python",
   "name": "python3"
  },
  "language_info": {
   "codemirror_mode": {
    "name": "ipython",
    "version": 3
   },
   "file_extension": ".py",
   "mimetype": "text/x-python",
   "name": "python",
   "nbconvert_exporter": "python",
   "pygments_lexer": "ipython3",
   "version": "3.9.7"
  }
 },
 "nbformat": 4,
 "nbformat_minor": 5
}
