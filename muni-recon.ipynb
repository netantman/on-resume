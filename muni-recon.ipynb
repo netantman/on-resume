{
 "cells": [
  {
   "cell_type": "markdown",
   "id": "38a90b9d",
   "metadata": {},
   "source": [
    "## Situation and Task\n",
    "\n",
    "We need to automatically adjust bond prices/yield to avoid inversions to the BVAL corp and muni prices along the curve.\n",
    "\n",
    "- **Background**: \n",
    "    - The pricing model reacts to different bonds **in different speed**\n",
    "        - For bonds just traded, the pricing algo quickly captures and the traded price will be reflected in the output.\n",
    "        - For a similar bonds that are not traded/quotes, their prices stay relatively unchanged in some cases.\n",
    "        - Thus when **an issuer get repricing**, inversions can occurs, e.g. the short-end bond gets cheapens rapidly, while the long-end bond stays put.\n",
    "    - Human needs to **adjust the prices manually**, which is **time-consuming** and **error-prone**. Moreover, lacking a monitoring system, such adjustments only occurs **after the client challenges**. \n",
    "- **Task**: To build an automatic system to correct for such blatant inconsistencies."
   ]
  },
  {
   "cell_type": "markdown",
   "id": "8cf15b29",
   "metadata": {},
   "source": [
    "## Action\n",
    "\n",
    "Formulate and solve as a convex optimization problem, to provide adjustments holistically and consistently.\n",
    "\n",
    "- **Initial response**: a more systematic way is perhaps **enhancing/fixing the pricing algo itself**. But that may take a long time while the thread is imminent.\n",
    "- **Further difficulty**: one **cannot adjust bonds locally**, \n",
    "    - e.g. only cheapening a 3yr bond due to a 2yr bond cheapening may cause inversion between the 3yr bond and the 5yr bond;\n",
    "    - but we do not want to move everythiung longer than 2yr all up, so there is a compromise to make.\n",
    "    - This also shows **why human correction can sometimes be difficult**.\n",
    "- **Solution**: Take all bonds of the same curve into consideration and **run a convex optimization to solve for the optimal adjustment amounts**\n",
    "    - **linear constraints**: the pair of bonds should not be inverted after adjustments. But it is not a hard constraint - we simply **penalize the amount of inversion**\n",
    "    - **quadratic, or squared loss**: the cost function is a summation of (1) the **squared of the adjustment amount** and **heavier costs can be assigned to bonds that we are really relunctant to move** by specification of the loss function; and (2) the **squared amount of inversion**.\n",
    "    - Quadratic optimization **runs quickly**, and has **existing numerical package** we can leverage."
   ]
  },
  {
   "cell_type": "markdown",
   "id": "41d04a29",
   "metadata": {},
   "source": [
    "## Resolution\n",
    "Inversion are corrected, automatically, before they are shown to clients; it saved evaluators great amount of time correcting for the inversion or dealing with client complaint.\n",
    "\n",
    "- **Take-away**: **I am good at, and enjoying problem solving formulating the business problem into a maths or modeling problem**."
   ]
  }
 ],
 "metadata": {
  "kernelspec": {
   "display_name": "Python 3 (ipykernel)",
   "language": "python",
   "name": "python3"
  },
  "language_info": {
   "codemirror_mode": {
    "name": "ipython",
    "version": 3
   },
   "file_extension": ".py",
   "mimetype": "text/x-python",
   "name": "python",
   "nbconvert_exporter": "python",
   "pygments_lexer": "ipython3",
   "version": "3.9.7"
  }
 },
 "nbformat": 4,
 "nbformat_minor": 5
}
