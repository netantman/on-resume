{
 "cells": [
  {
   "cell_type": "markdown",
   "id": "982c8fdc",
   "metadata": {},
   "source": [
    "## How would you update illiquid bond price in real time?"
   ]
  },
  {
   "cell_type": "markdown",
   "id": "88b2bb82",
   "metadata": {},
   "source": [
    "### For semi-liquid/illiquid\n",
    "Bond that occasionally trades, and/or bonds with same issuers/sector/rating that trades"
   ]
  },
  {
   "cell_type": "markdown",
   "id": "a3709f35",
   "metadata": {},
   "source": [
    "#### Statistical/ML model for bond-pair price difference"
   ]
  },
  {
   "cell_type": "markdown",
   "id": "ef8131d0",
   "metadata": {},
   "source": [
    "- Fit a model on **price adjustments** due to attribute differences: maturity, call schedules, seniorities, etc.\n",
    "    - For instance, want to price a 7yr nc 3yr bond which has not traded, but a 8yr nc 5yr bond of the same issuer recently trades, then the model should be able to produce the price adjustments from the latter bond to the former.\n",
    "- The model could be a machine-learning model that does **automatic feature engineering** (e.g. MARS or neural nets), but humans should inspect the results of the feature engineering to make sure it makes sense economically.\n",
    "    - Alternatively, dealers or traders can suggest **heurestics or functional forms** that determines the parametrics forms of the adjustments.\n",
    "- As such, the model should train on **pairwise data**: bond price/yield difference of two bonds whose trade timestamps are close.\n",
    "    - To increase the amount of pairwise data, build a **hierarchy of peer bonds (pricing paths or pricing trees)**, say rating/sector/issuer/seniority.\n",
    "    - Define the **effective number** for each observation: trades that are more recent, with larger volume and less variation in prices should have higher EN.\n",
    "    - Then define the **weight of the pair**: pairs with closer trading timestamps, shorter distance in the pricing tree and higher effective numbers on both bonds have higher weights.\n",
    "        - The intuition of this is that, even bonds of e.g. different issuers can form a pair and be fed to the model, just that these pairs will be given a lower weights than those pairs of the same issuers.\n",
    "        - We can also impose **restrictions on how pairs are formed**, e.g. just form pairs up to the sector levels, as we believe price adjustments in consumer discretionary are different from TMT.\n",
    "        - One can even **override pair weights for specific purpose**, for instance, if the model is used to predict coupon adjustments only, then coupon pairs are given more weights.\n",
    "- To test/CV the model\n",
    "    - train the model and **predict the near future**\n",
    "    - do **stratefied hold-out CV**\n",
    "- To come up with the price of the target bond, one can **weighted average the price adjustments of different pairs**\n",
    "    - The weights can be just the pair weights aforementioned, or if one wants to get fancy, **train another generative model to produce the weights**\n",
    "    - The resulting weighted average can **further weighted average with recent trade price** of the target bond.\n",
    "- Traders/dealers can contribute to this process in at least three ways\n",
    "    - **add data**: provide quotes where data is extremely lacking\n",
    "    - **review example inference**: does it make sense that the price difference between these two bonds are like this?\n",
    "    - **comment on guardrails**"
   ]
  },
  {
   "cell_type": "markdown",
   "id": "eed63850",
   "metadata": {},
   "source": [
    "#### Produce bond prices using equity prices"
   ]
  },
  {
   "cell_type": "markdown",
   "id": "e1cf35f9",
   "metadata": {},
   "source": [
    "In a nutshell, the idea is to use **structural model** to produce bond prices\n",
    "- As such, when **equities price ticks**, bond price can be updated in real-time\n",
    "- Besides equities prices, the key inputs to the model include\n",
    "    - **recovery**: can be marked by trader\n",
    "    - **leverage/debt-per-share**: relatively stable across time\n",
    "    - **asset vol**: can use the implied value $T-1$, given all other inputs and an input bond price\n",
    "- We cannot just use the classical Merton's model, as that is known to have **difficulties generating for safe names**, one can look at the Credit-Grades model, or Merton's model with jumps."
   ]
  },
  {
   "cell_type": "markdown",
   "id": "11dddf51",
   "metadata": {},
   "source": [
    "### For the extremely illiquid bonds\n",
    "That is, not much bonds that are traded were close enough."
   ]
  },
  {
   "cell_type": "markdown",
   "id": "e8435e8d",
   "metadata": {},
   "source": [
    "- Build a **supervised learning model**, where $y$ is the price/spread change for the target bond, and $X$ are the returns of macro instruments, such as ETF, single-name CDS, etc. \n",
    "- Probably one model per issuer, and by definition, model should be **cross-sectional**: of different bonds.\n",
    "- Discretization should be at least at **weekly frequency**, and could build-in some **lead-lag relationship**."
   ]
  }
 ],
 "metadata": {
  "kernelspec": {
   "display_name": "Python 3 (ipykernel)",
   "language": "python",
   "name": "python3"
  },
  "language_info": {
   "codemirror_mode": {
    "name": "ipython",
    "version": 3
   },
   "file_extension": ".py",
   "mimetype": "text/x-python",
   "name": "python",
   "nbconvert_exporter": "python",
   "pygments_lexer": "ipython3",
   "version": "3.9.7"
  }
 },
 "nbformat": 4,
 "nbformat_minor": 5
}
