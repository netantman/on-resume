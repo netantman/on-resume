{
 "cells": [
  {
   "cell_type": "markdown",
   "id": "bdb0729a",
   "metadata": {},
   "source": [
    "<font color=red> **to change this to both corp and muni** <font> "
   ]
  },
  {
   "cell_type": "markdown",
   "id": "f8b15e89",
   "metadata": {},
   "source": [
    "Our model reacts to different muni bonds in different speed:\n",
    "\n",
    "for a bond that just traded, our pricing algo will quickly capture that and the traded price will be reflected in the output;\n",
    "\n",
    "but for a similar bond that has not traded, its prices/spreads oftentimes stay unchanged.\n",
    "\n",
    "So in the event of an issuer gets repricing quickly but only some of its bonds get traded, obvious pricing errors will arise. For example, think of a bond shorter in maturity but becomes much cheaper in repricing than another bond with the same issuer same coupon but longer in maturity, i.e. an inversion. These kind of obvious pricing errors are an embarrassment to our pricing algo. In the past, the customer service had to catch these in time before clients see them, and manually adjust prices.\n",
    "\n",
    "So the task is to devise an algo after the pricing algorithm to automatically catch and correct for these mis-pricing.\n",
    "\n",
    "You may say that seems a bug in the pricing algo, and it is the model that you need to fix. That is correct in theory, but the pricing algo is more trunky, which takes longer to fix while our concern is imminent. As such, we have decided to do something after the fact.\n",
    "\n",
    "Another challenge is we cannot fix a bond locally. Going back to our previous example, one may say all we need to do is to move the longer-maturity bond cheaper so that there is no inversion. But while we have fixed the inversion for this particular pair in this way, there may be more bonds longer in maturities that are now in inversion because of this fix. Can we simply move all the bonds that are not traded and longer maturities up? Maybe, in some cases, but moving 10 bonds just because one bond traded in the short-end definitely cannot suit all cases. So we are looking for the adjustment algorithm to automatically strike a balance.\n",
    "\n",
    "I come up with such an automation algo via convex optimization.\n",
    "\n",
    "The algo applies adjustments to the output ytw from the pricing algo. It then minimizes the sum of the squared adjustments for each bond. That is, there are costs in moving bonds at all, and in particular, give bond that are recently traded a higher weight so that we are more reluctant to move it. Thus the cost function is quadratic.\n",
    "\n",
    "There should be no inversion after adjustment for pairs of bonds, which is a linear constraint, and bonds that are further apart have this constraint relaxed, e.g. a 5-year maturity bond should not be able to influence a 30-year maturity bond. That is, the constraint is soft.\n",
    "\n",
    "The actual optimization problem is much more complex than that, but this is the main idea. As all convex optimization goes, the solver is very efficient - one of the contributing factor is it is pretty sparse. The impact is we save customer service tons of manual overriding and catch and fix pricing errors to avoid embarrassments in front of clients. It is an automation-saving-human-cost type of problem."
   ]
  }
 ],
 "metadata": {
  "kernelspec": {
   "display_name": "Python 3 (ipykernel)",
   "language": "python",
   "name": "python3"
  },
  "language_info": {
   "codemirror_mode": {
    "name": "ipython",
    "version": 3
   },
   "file_extension": ".py",
   "mimetype": "text/x-python",
   "name": "python",
   "nbconvert_exporter": "python",
   "pygments_lexer": "ipython3",
   "version": "3.9.7"
  }
 },
 "nbformat": 4,
 "nbformat_minor": 5
}
