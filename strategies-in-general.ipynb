{
 "cells": [
  {
   "cell_type": "markdown",
   "id": "b666917d",
   "metadata": {},
   "source": [
    "## Talking points in describing a strategy\n",
    "\n",
    "- **First**: Brief description of the strategy\n",
    "    - **Cash bond systematic factor**: long-short portfolio by sorting on momentum, carry, defensive, etc.\n",
    "    - **Capital structure arbitrage**: (1) relative value between stocks and bonds; (2) option market making on the firm's asset value, or trading implied asset vol.\n",
    "    - **CDS-Bond basis**: relative value between bonds and CDS\n",
    "- **Then**: Mentions the models or methodology\n",
    "- **Next** - Second-level details: inputs\n",
    "- **Next** - Second-level details: metrics and how to backtest\n",
    "    - Using raw returns or pnl to backtest is almost never a satisfactory answer: need to do **risk residualization or decomposition**\n",
    "        - **Cash bond systematic factor**: long-short portfolio Sharpe ratio, **double sorting on chracteristic and DTS**\n",
    "        - **Capital structure arbitrage**: implied asset vol, residualizing against interest rate risk, delta risk, gamma risk, or even market-wide IV risk.\n",
    "        - **CDS-Bond basis**: basis insulating interest rate risk and call risk.\n",
    "    - To backtest we **prefer long pricing history**, which may not be available for bonds. Three solutions:\n",
    "        - Solve the problem elsewhere: insulate other risks better.\n",
    "        - Use peer bonds to infer and obtain longer price history\n",
    "        - Move on to macro instruments, such as CDX and ETFs, where there are longer price histories.\n",
    "    - Other considerations in backtesting or simulation: transaction costs, repo costs, price impacts, slippage"
   ]
  },
  {
   "cell_type": "markdown",
   "id": "01dc89ca",
   "metadata": {},
   "source": [
    "## The Importance to look at clean signals\n",
    "- By clean signals, we mean signals that (1) are based on risk decomposition, and thus each signal residualizes against unwanted risks and (2) before all other orthogonal components that will impact final PnL, such as transaction costs, etc.\n",
    "- Looking at clean signals is **a way to divide-and-conquer**. There are three benefits.\n",
    "    - Gives a clear indication of what has/has not performed, and thus **directions to improve**.\n",
    "    - The smaller problem also **allows for easier solutions**: main point of divide and conquer.\n",
    "    - Can help find new opportunities, by **facilitating better mapping**.\n",
    "        - For instance, on an absolute scale, EM sovereign debts may not look attrative on its own or even its basis. But when considering EM hard currency debt and the local currency counterparts, the relative value signal may look attractive, and there could be entry points while the whole market's axes are lopsided. But this mapping would not have been easy without the compartmentation of delta vs vega risks."
   ]
  },
  {
   "cell_type": "markdown",
   "id": "cfe718db",
   "metadata": {},
   "source": [
    "## How do we combine various alt data/alpha signals\n",
    "- Weighted average of individual portfolio by risk (AQR approach): each single-characteristic portfolio aggregated, after scaling to be equal volatility.\n",
    "- Scoring, or emsemble learning of several learners on predicting future returns\n",
    "    - Similar to contrib weighting: if you want to be fancy, you can even train a generative model to obtain the weights.\n",
    "    - Note that do not put pnl maximization as target function in this step: refer to the importance of clean signals above."
   ]
  },
  {
   "cell_type": "markdown",
   "id": "159b9917",
   "metadata": {},
   "source": [
    " "
   ]
  },
  {
   "cell_type": "markdown",
   "id": "746e763f",
   "metadata": {},
   "source": [
    "<font color=red> **TODO** </font>: Probably more can be added after reading [< Quantitative Portfolio Management >](https://www.evernote.com/shard/s191/nl/21353936/77cd7510-6bc9-83d5-3b95-ea8bd0c4142b?title=Quantitative%20Portfolio%20Management:%20the%20Art%20and%20Science%20of%20Statistical%20Arbitrage)"
   ]
  }
 ],
 "metadata": {
  "kernelspec": {
   "display_name": "Python 3 (ipykernel)",
   "language": "python",
   "name": "python3"
  },
  "language_info": {
   "codemirror_mode": {
    "name": "ipython",
    "version": 3
   },
   "file_extension": ".py",
   "mimetype": "text/x-python",
   "name": "python",
   "nbconvert_exporter": "python",
   "pygments_lexer": "ipython3",
   "version": "3.9.7"
  }
 },
 "nbformat": 4,
 "nbformat_minor": 5
}
