{
 "cells": [
  {
   "cell_type": "markdown",
   "id": "b666917d",
   "metadata": {},
   "source": [
    "## Talking points in describing a strategy\n",
    "\n",
    "- Brief description of the strategy\n",
    "    - **Cash bond systematic factor**: long-short portfolio by sorting on momentum, carry, defensive, etc.\n",
    "    - **Capital structure arbitrage**: (1) relative value between stocks and bonds; (2) option market making on the firm's asset value, or trading implied asset vol.\n",
    "    - **CDS-Bond basis**: relative value between bonds and CDS\n",
    "- Inputs\n",
    "- Models or Methodology\n",
    "- Metrics or how to backtest\n",
    "    - Using raw returns or pnl to backtest is almost never a satisfactory answer: need to do risk residualization\n",
    "        - **Cash bond systematic factor**: long-short portfolio Sharpe ratio, insulating DTS <font color=red>(to refine)</font>\n",
    "        - **Capital structure arbitrage**: implied asset vol, residualizing against interest rate risk, delta risk, gamma risk, or even market-wide IV risk.\n",
    "        - **CDS-Bond basis**: basis insulating interest rate risk and call risk.\n",
    "    - To backtest we **prefer long pricing history**, which may not be available for bonds. Three solutions:\n",
    "        - Solve the problem elsewhere: insulate other risks better.\n",
    "        - Use peer bonds to infer and obtain longer price history\n",
    "        - Move on to macro instruments, such as CDX and ETFs, where there are longer price histories."
   ]
  },
  {
   "cell_type": "markdown",
   "id": "cfe718db",
   "metadata": {},
   "source": [
    "## How do we combine various alt data/alpha signals\n",
    "- Weighted average of individual portfolio by risk (AQR approach) <font color=red>(to refine)</font>\n",
    "- Scoring, or emsemble learning of several learners on predicting future returns\n",
    "    - Similar to contrib weighting: if you want to be fancy, you can even train a generative model to obtain the weights.\n",
    "    - Note that do not put pnl maximization as target function in this step: leave it to another task"
   ]
  },
  {
   "cell_type": "markdown",
   "id": "159b9917",
   "metadata": {},
   "source": [
    " "
   ]
  },
  {
   "cell_type": "markdown",
   "id": "746e763f",
   "metadata": {},
   "source": [
    "<font color=red> TODO </font>: Probably more can be added after reading [< Quantitative Portfolio Management >](https://www.evernote.com/shard/s191/nl/21353936/77cd7510-6bc9-83d5-3b95-ea8bd0c4142b?title=Quantitative%20Portfolio%20Management:%20the%20Art%20and%20Science%20of%20Statistical%20Arbitrage)"
   ]
  }
 ],
 "metadata": {
  "kernelspec": {
   "display_name": "Python 3 (ipykernel)",
   "language": "python",
   "name": "python3"
  },
  "language_info": {
   "codemirror_mode": {
    "name": "ipython",
    "version": 3
   },
   "file_extension": ".py",
   "mimetype": "text/x-python",
   "name": "python",
   "nbconvert_exporter": "python",
   "pygments_lexer": "ipython3",
   "version": "3.9.7"
  }
 },
 "nbformat": 4,
 "nbformat_minor": 5
}
