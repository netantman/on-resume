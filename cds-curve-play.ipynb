{
 "cells": [
  {
   "cell_type": "markdown",
   "id": "e4942a93",
   "metadata": {},
   "source": [
    "## What views can CDS curve trades express?"
   ]
  },
  {
   "cell_type": "markdown",
   "id": "f4a3a101",
   "metadata": {},
   "source": [
    "- This can be viewed as a **hedged position to outright CDS trade**\n",
    "- Taking a view on the **shape of the credit curve (steepener/flattener)**. \n",
    "    - Usually distressed names tend to widen and flatten.\n",
    "    - There is the idea of **empirical beta for CDS curve trades**: curves widening for names without short-term debts tends to steepens first and then flatten, i.e. the long-end lead the short-end change.\n",
    "- Yet another way to view this is to **time the default**. \n",
    "    - For example, if a name does not have short-term debt, it is not going to default in the short tenor, and safe to do steepener trade.\n",
    "- Another variant of this is to **sell CDS protection on both short- and long-end**: think of this as the barbell strategy as in cash bonds, though it is expressed in CDS. As the barbell strategy, it will benefit when convexity rises; see a more detailed description in Chapter 29 of [Morgan Stanley Credit Insights](https://www.evernote.com/shard/s191/nl/21353936/35eb5274-fadd-cea2-f38a-9275ffa755f7?title=Morgan%20Stanley%20Credit%20Insights%20(2015)) and Chapter 30 for an example on how a view is expressed."
   ]
  },
  {
   "cell_type": "markdown",
   "id": "3986da2d",
   "metadata": {},
   "source": [
    " "
   ]
  },
  {
   "cell_type": "markdown",
   "id": "d1b76ae3",
   "metadata": {},
   "source": [
    "## How do we structure the two legs of long-short CDS curve trades?"
   ]
  },
  {
   "cell_type": "markdown",
   "id": "ea252ae4",
   "metadata": {},
   "source": [
    "- One way is to sell $(T+\\tau)$-yr CDS and buy $T$-yr CDS spot, i.e a spot flattener. \n",
    "    - Essentially this is selling $\\tau$-yr CDS forward, or timing the default/downgrade is not going to happen in the $\\tau$-yr window $T$-yrs forward, or betting that credit curve will flatten. \n",
    "\n",
    "- Another way is to sell $(T+\\tau)$-yr CDS now and buy $T$-yr protection back in $\\tau$ years, i.e. legging into positions. \n",
    "    - In this way, we are essentially selling a $\\tau$-yr CDS spot, and thus can be considered as alternative implementation of such trade.\n",
    "    - Another way to look at this is we are **earning the rolldown of the CDS curve**: after $\\tau$ years, the $T$-yr protection negative carry should be less than the positive carry from the earlier $(T+\\tau)$ position. Note that the carry will manifest in upfront rather than cash carry, with standard contracts. \n",
    "    - More specifically, if the credit curve is steep and the view is it is not going to flatten a lot in $\\tau$ years, the legging-into-position could earn more upfront than the outright $\\tau$-yr one (You can actually do similar things in IRS too)."
   ]
  },
  {
   "cell_type": "markdown",
   "id": "5257fdec",
   "metadata": {},
   "source": [
    " "
   ]
  },
  {
   "cell_type": "markdown",
   "id": "027caa3f",
   "metadata": {},
   "source": [
    "## How should we determine the notionals of the two legs?"
   ]
  },
  {
   "cell_type": "markdown",
   "id": "d020d305",
   "metadata": {},
   "source": [
    "- **Notional neutral** or roughly **JTD neutral if the recovery assumption on the two tenors are the same**\n",
    "    - There should be zero or close to **zero cash carry**, if both are standard coupon.\n",
    "    - There will be **roll down due to upfront MtM**.\n",
    "    - It is **not spread duration, or cs01 neutral** and **curve parallel shifting** can hurt performance.\n",
    "    - This option is popular due to **easy execution**, especially if the two legs are **relative static for a time period**.\n",
    "- **cs01**, or **spread duration neutral**\n",
    "    - Much **less sensitive to the parallel movement** of the curve\n",
    "    - Usually **not JTD neutral**, as cs01 ratio is roughly proportional to tenor ratio: the notional on the short leg is larger than that on the long leg. \n",
    "    - Chapter 9 of [ < Quantitative Credit Portfolio Management > ](https://www.evernote.com/shard/s191/nl/21353936/f7e585ec-2c89-d7dc-8e8f-72d78cae4193?title=Quantitative%20Credit%20Portfolio%20Management) tries this, but claims it is not as impressive as the same credit play in cash bonds.\n",
    "    - May need to **rebalance often as cs01 on the two legs changes every day**. Nevertheless, one can define **CS01 neutral carry rolldown** as the mean-reverting signal for CDS curve play.\n",
    "        - Definition is fixing the notional of the long protection leg (say 5yr tenor, to be 10mm notional), then determine the short protection leg's notional so that they are **cs01 neutral**, **rebalanced daily**. \n",
    "        - Then take the difference of cash carry rolldown between the long leg and the short leg. \n",
    "        - The above metrics is **positive when the curve is flat or inverted in general, when the tenors are chosen such as it is a curve steepener**, which means there is positive carry to do steepener when curve is inverted."
   ]
  },
  {
   "cell_type": "markdown",
   "id": "54f276da",
   "metadata": {},
   "source": [
    " "
   ]
  },
  {
   "cell_type": "markdown",
   "id": "c957040f",
   "metadata": {},
   "source": [
    "## What are other consideration in practice?"
   ]
  },
  {
   "cell_type": "markdown",
   "id": "50f1aee5",
   "metadata": {},
   "source": [
    "One implementation nuance is that the **tenors of the two legs may not be free to choose**, since nowadays CDS matures on **IMM days**. So the **economics can be off by at most three months**.\n",
    "\n",
    "The **absorption factor** in CDS curve carry/roll\n",
    "- It is a phenomenon that during roll day, e.g. a 5yr CDS becomes 4.5yr, the quoted spread of the formerly-5y-now-4.5y instrument should in theory roll down the curve and decreases to the 4.5yr point; but sometimes dealers roll it down not as much or even not at all. The degree is called absorbing factor.\n",
    "- The reason the absorbing factor exists, in particular when dealers net long protection in that instrument and the corresponding segment of the curve is steep. This is because if they roll down all the way, their own book will be marked down significantly.\n",
    "\n",
    "**Liquidity of single-name CDS** and **transaction cost** remains a risk, as is for outright CDS long/short."
   ]
  }
 ],
 "metadata": {
  "kernelspec": {
   "display_name": "Python 3 (ipykernel)",
   "language": "python",
   "name": "python3"
  },
  "language_info": {
   "codemirror_mode": {
    "name": "ipython",
    "version": 3
   },
   "file_extension": ".py",
   "mimetype": "text/x-python",
   "name": "python",
   "nbconvert_exporter": "python",
   "pygments_lexer": "ipython3",
   "version": "3.9.7"
  }
 },
 "nbformat": 4,
 "nbformat_minor": 5
}
