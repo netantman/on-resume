{
 "cells": [
  {
   "cell_type": "markdown",
   "id": "4ecac60c",
   "metadata": {},
   "source": [
    "## Situation and Task"
   ]
  },
  {
   "cell_type": "markdown",
   "id": "52a35545",
   "metadata": {},
   "source": [
    "We want to automate the screening and trading bound-setting process.\n",
    "- **Motivation**: After all necessary attributions, and PnL are **driven by round trip traffic of mean-reverting signals**: the more we can do round trips, the more profit we can generate. Thus we need to find those signals that are most mean-reverting quickly.\n",
    "- We also need a way to automatically generate trading bounds, for the same speed reason.\n",
    "- There are 7000+ instruments and their corresponding signals, which can be time-consuming to look at."
   ]
  },
  {
   "cell_type": "markdown",
   "id": "b58f3002",
   "metadata": {},
   "source": [
    "## Action\n",
    "\n",
    "Look for simple metrics from classic time-series analysis, and draw from reinforcement learning.\n",
    "- **Hurst exponent**: $<0.5$ is mean-reverting, and the smaller it is, the more mean-reverting.\n",
    "    - Based on **variance test**, which says that the time-series is more mean-reverting when the **variance as a function of lag $\\tau$ increase sub-linearly for $\\tau$**.\n",
    "    - To recall, **standard Brownian motion's variance grows linearly with lag $\\tau$**.\n",
    "- **Half life of OU process**:\n",
    "    - Similar to the [ADF](../../other-quant-methods/time-series-models.ipynb) test, **regress the change of time-series on $T-1$ value**. \n",
    "    - If the slope $\\lambda$ is **very negative**, it means mean revertion is strong.\n",
    "    - Formally, the **half life** of fitting the OU process is $-2/\\log(\\lambda)$, the shorter it is, the more mean-reverting.\n",
    "- **N-Armed Bandit**\n",
    "    - Simplest reinforcement setting.\n",
    "    - You can think of it as an AI learning how to trade, by observing the historical time-series and rewarded the PnL of the trade.\n",
    "        - Policy: the pre-defined trading bands that the algo can choose from\n",
    "        - Reward: Pnl\n",
    "        - Model: describes how the agent decide the next move and next reward - remained to be a black box for me for now.\n",
    "    - The result from one case-study is interesting: the algo is able to generate a 'kinked' trading schedule."
   ]
  },
  {
   "cell_type": "markdown",
   "id": "a308a5e7",
   "metadata": {},
   "source": [
    "## Resolution\n",
    "\n",
    "We have an efficient screener and tradeband setting for mean-reversion of signal time-series."
   ]
  },
  {
   "cell_type": "markdown",
   "id": "a2f436ea",
   "metadata": {},
   "source": [
    "## Technical Descriptions\n",
    "(Also saved in evernotes)\n",
    "- [Hurst exponent](https://towardsdatascience.com/introduction-to-the-hurst-exponent-with-code-in-python-4da0414ca52e)\n",
    "- [Half life of OU](https://flare9xblog.wordpress.com/2017/09/27/half-life-of-mean-reversion-ornstein-uhlenbeck-formula-for-mean-reverting-process/)\n",
    "- [Reinforcement Learning in Pairs Trading](https://towardsdatascience.com/a-gentle-implementation-of-reinforcement-learning-in-pairs-trading-6cdf8533bced)"
   ]
  }
 ],
 "metadata": {
  "kernelspec": {
   "display_name": "Python 3 (ipykernel)",
   "language": "python",
   "name": "python3"
  },
  "language_info": {
   "codemirror_mode": {
    "name": "ipython",
    "version": 3
   },
   "file_extension": ".py",
   "mimetype": "text/x-python",
   "name": "python",
   "nbconvert_exporter": "python",
   "pygments_lexer": "ipython3",
   "version": "3.9.7"
  }
 },
 "nbformat": 4,
 "nbformat_minor": 5
}
