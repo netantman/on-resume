{
 "cells": [
  {
   "cell_type": "markdown",
   "id": "1e9ad963",
   "metadata": {},
   "source": [
    "## Situation and Task"
   ]
  },
  {
   "cell_type": "markdown",
   "id": "44cb1b5e",
   "metadata": {},
   "source": [
    "- **Task**: Given 7000+ instruments and their corresponding signals, we need metrics to screen to quickly find those that are most mean-reverting, to put on risk.\n",
    "- **Motivation**: After all necessary attributions, and PnL are **driven by round trip traffic of mean-reverting signals**: the more we can do round trips, the more profit we can generate."
   ]
  },
  {
   "cell_type": "markdown",
   "id": "a2196cb2",
   "metadata": {},
   "source": [
    "## Action\n",
    "\n",
    "Look for simple metrics from classic time-series analysis\n",
    "- **Hurst exponent**: $<0.5$ is mean-reverting, and the smaller it is, the more mean-reverting.\n",
    "    - Based on **variance test**, which says that the time-series is more mean-reverting when the **variance as a function of lag $\\tau$ increase sub-linearly for $\\tau$**.\n",
    "    - To recall, **standard Brownian motion's variance grows linearly with lag $\\tau$**.\n",
    "- **Half life of OU process**:\n",
    "    - Similar to the [ADF](../../other-quant-methods/time-series-models.ipynb) test, **regress the change of time-series on $T-1$ value**. \n",
    "    - If the slope $\\lambda$ is **very negative**, it means mean revertion is strong.\n",
    "    - Formally, the **half life** of fitting the OU process is $-2/\\log(\\lambda)$, the shorter it is, the more mean-reverting."
   ]
  },
  {
   "cell_type": "markdown",
   "id": "cbf37166",
   "metadata": {},
   "source": [
    "## Resolution\n",
    "\n",
    "We have an efficient screener for mean-reversion of signal time-series."
   ]
  }
 ],
 "metadata": {
  "kernelspec": {
   "display_name": "Python 3 (ipykernel)",
   "language": "python",
   "name": "python3"
  },
  "language_info": {
   "codemirror_mode": {
    "name": "ipython",
    "version": 3
   },
   "file_extension": ".py",
   "mimetype": "text/x-python",
   "name": "python",
   "nbconvert_exporter": "python",
   "pygments_lexer": "ipython3",
   "version": "3.9.7"
  }
 },
 "nbformat": 4,
 "nbformat_minor": 5
}
