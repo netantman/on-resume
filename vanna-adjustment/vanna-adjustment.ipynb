{
 "cells": [
  {
   "cell_type": "markdown",
   "id": "aea4a983",
   "metadata": {},
   "source": [
    "## Situation and Task\n",
    "- **Problem**: In certain scenarios, anecdotally especially **IG long-maturity names that becomes distressed**, the model delta is too 'heavy' both judging from economic intuition or empirical delta.\n",
    "- **Background**: \n",
    "    - Over-hedging can have **non-negligible impact on PnL**, and we are left with **credit-directional risk** that we are unwilling to but nevertheless take on.\n",
    "    - Similar phenomenon happens to **equities option market making**, where you can be **subject to delta risk** if you hedge by the delta using the current implied vol, **not the expected implied vol**.\n",
    "- **Task**: Consistently adjust the model delta, so that delta risk is properly hedged."
   ]
  },
  {
   "cell_type": "markdown",
   "id": "5a4feedb",
   "metadata": {},
   "source": [
    "## Action\n",
    "- **Solution**: Again drawing inspiration from option market making, use the higher-order greek of vanna to adjust for delta.\n",
    "    - Vanna is the **option's second-order cross derivative** with respect to $\\sigma$ and $S$ (or asset price), and thus is **how option's delta changes when implied vol changes**\n",
    "    - In practice, we use **numerical scheme** to calculate vanna, as there is no closed-form solution.\n",
    "    - Given vanna, model delta is adjusted by the **expected implied vol change times that vanna**.\n",
    "        - As an example, for a long bond position, it is like shorting a put. As the name gets distressed, the short put get not-so-OTM, to a point where vanna is positive (to ascertain this sign, consider the short put's gamma against stock price, which is negative bell-shaped, and vanna is its slope). \n",
    "        - The adjustment, $\\text{vanna} \\cdot (\\text{not-so-big-IV-in-future} - \\text{currently-big-IV})$, is thus negative. That is, the short put's positive delta is scaled down, or we ought to short less shares of stock to hedge this long bond.\n",
    "- **Further pivot**\n",
    "    - It is found that for most instrument, most of the time, **vanna is small**, which is consistent with the general observation that higher-order derivatives are small, as most names are **'deep OTM'**.\n",
    "    - In theory, this adjustment will be meaningful for all names in distressed (i.e. becoming nearer to the money). But empirical experiment seems to indicate it produces most sensible adjustments for **IG long-maturity**, which is the segment that we mostly turn this adjustment on."
   ]
  },
  {
   "cell_type": "markdown",
   "id": "2aec8cf7",
   "metadata": {},
   "source": [
    "## Resolution\n",
    "- **Achievement**: though this adjustment does not necessarily produce positive PnL, as the delta risk can either help or hurt performance, we do find that it help reduce losses by 11% for some bonds, and less noisy pnl.\n",
    "- **Take-away**: **making connection between two theoretical related concept, and commandeer the solution of one to another** is an effective way to solve problems."
   ]
  }
 ],
 "metadata": {
  "kernelspec": {
   "display_name": "Python 3 (ipykernel)",
   "language": "python",
   "name": "python3"
  },
  "language_info": {
   "codemirror_mode": {
    "name": "ipython",
    "version": 3
   },
   "file_extension": ".py",
   "mimetype": "text/x-python",
   "name": "python",
   "nbconvert_exporter": "python",
   "pygments_lexer": "ipython3",
   "version": "3.9.7"
  }
 },
 "nbformat": 4,
 "nbformat_minor": 5
}
