{
 "cells": [
  {
   "cell_type": "markdown",
   "id": "a7547e1b",
   "metadata": {},
   "source": [
    "## Situation and Task\n",
    "- **Problem**: In certain scenarios, anecdotally especially **IG long-maturity names that becomes distressed**, the model delta is too 'heavy' both judging from economic intuition or empirical delta.\n",
    "- **Background**: \n",
    "    - Over-hedging can have **non-negligible impact on PnL**, and we are left with **credit-directional risk** that we are unwilling to but nevertheless take on.\n",
    "    - This is relating to **equities option market making**, where you can be **subject to delta risk** if you hedge by the delta using the current implied vol, **not the expected implied vol**.\n",
    "- **Task**: Consistently adjust the model delta, so that delta risk is properly hedged."
   ]
  },
  {
   "cell_type": "markdown",
   "id": "f37b43e6",
   "metadata": {},
   "source": [
    "## Action\n",
    "- **Solution**: Again drawing inspiration from option market making, use the higher-order greek of vanna to adjust for delta.\n",
    "    - Vanna is the **option's second-order cross derivative** with respect to $\\sigma$ and $S$ (or asset price).\n",
    "    - In practice, we use **numerical scheme** to calculate vanna, as there is no closed-form solution.\n",
    "    - Given vanna, model delta is adjusted by the **expected implied vol change times that vanna**.\n",
    "- **Further pivot**\n",
    "    - It is found that for most instrument, most of the time, **vanna is small**, which is consistent with the general observation that higher-order derivatives are small, as most names are **'deep OTM'**.\n",
    "    - Though in general this adjustment will be meaningful for all names in distressed, it would seem it produce most sensible adjustments for **IG long-maturity**, which is the segment that we mostly turn this adjustment on."
   ]
  },
  {
   "cell_type": "markdown",
   "id": "ef68ce7d",
   "metadata": {},
   "source": [
    "## Resolution\n",
    "- **Achievement**: though this adjustment does not necessarily produce positive PnL, as the delta risk can either help or hurt performance, we do find that it help reduce losses by 11% for some bonds.\n",
    "- **Take-away**: **making connection between two theoretical related concept, and commandeer the solution of one to another** is an effective way to solve problems."
   ]
  }
 ],
 "metadata": {
  "kernelspec": {
   "display_name": "Python 3 (ipykernel)",
   "language": "python",
   "name": "python3"
  },
  "language_info": {
   "codemirror_mode": {
    "name": "ipython",
    "version": 3
   },
   "file_extension": ".py",
   "mimetype": "text/x-python",
   "name": "python",
   "nbconvert_exporter": "python",
   "pygments_lexer": "ipython3",
   "version": "3.9.7"
  }
 },
 "nbformat": 4,
 "nbformat_minor": 5
}
