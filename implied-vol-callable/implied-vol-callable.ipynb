{
 "cells": [
  {
   "cell_type": "markdown",
   "id": "6e558b7e",
   "metadata": {},
   "source": [
    "## Situation and Task\n",
    "- **Problem**: Clients ask, or there is a business proposal to produce a **price of the optionality in callable bonds**, either for user to **better gauge the pure credit risk in spreads**, or **serves as a relative value metric**.\n",
    "- **Task**: Produce a volatility metric for bond optionality\n",
    "- **Difficulty**: \n",
    "    - There is **no standalone observed swaptions** for sectors with many callable bonds, such as corp HY and munis. \n",
    "    - What is worse, issuers calling these bonds **not purely for interest-rate reasons**."
   ]
  },
  {
   "cell_type": "markdown",
   "id": "aa2cd5e5",
   "metadata": {},
   "source": [
    "## Action\n",
    "\n",
    "### Main Methodology\n",
    "- For any given volatility, one can build an interest-rate (short-rate) tree like the usual OAS model, **taking all other parameters as the swaption one except for the vol (e.g. mean-reversion speed in Black-Karacinski)**. \n",
    "- Overlay this interest rate tree with the **survival probability by the exponential spline** (see this [notebook](../../fixed-income/instruments/gsac/credit-pricing-and-analytics.ipynb)), we can then discount that cashflow in that branch (scenario), and further PV the bond for the whole tree. \n",
    "- PV is thus a function of the credit parameters (exponential spline) and interest rate vol, and we can **solve for an interest rate vol that matches the PV to the bond price**.\n",
    "    - A somewhat more detailed description of the optimization algorithm is, for any fixed interest rate vol, the PV is a linear function of the exponential spline parameters. Thus given the vol, **solving for the exponential spline coefficients matching PV to bond prices is again solving a linear regression**.\n",
    "    - After obtaining the minimal pricing errors in the regression above, we have a **one-dimensional pricing-error function** of interest rate vol, which is easy to optimize as well.\n",
    "\n",
    "### Further Difficulty\n",
    "**Data are uneven cross-sectionally**, in that some issuers may have more bonds and more liquid observations - apparently this methodology does not apply to all issuers.\n",
    "\n",
    "### Response\n",
    "We confined ourselves to **a few HY active issuers (such as CHTR)**, and **rating-level volatility calibration for munis** - in fact, we advertised BVAL is going to produce for AAA 5% the bullet curve."
   ]
  },
  {
   "cell_type": "markdown",
   "id": "1c53de81",
   "metadata": {},
   "source": [
    "## Resolution\n",
    "- Clients love the notion and it is on track to become BVAL's new income source."
   ]
  }
 ],
 "metadata": {
  "kernelspec": {
   "display_name": "Python 3 (ipykernel)",
   "language": "python",
   "name": "python3"
  },
  "language_info": {
   "codemirror_mode": {
    "name": "ipython",
    "version": 3
   },
   "file_extension": ".py",
   "mimetype": "text/x-python",
   "name": "python",
   "nbconvert_exporter": "python",
   "pygments_lexer": "ipython3",
   "version": "3.9.7"
  }
 },
 "nbformat": 4,
 "nbformat_minor": 5
}
