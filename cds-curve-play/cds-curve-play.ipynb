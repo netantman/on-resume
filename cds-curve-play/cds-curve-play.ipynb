{
 "cells": [
  {
   "cell_type": "markdown",
   "id": "a5f34da6",
   "metadata": {},
   "source": [
    "- **CS01 neutral carry rolldown** is the mean-reverting signal for CDS curve play.\n",
    "    - Definition is fixing the notional of the long leg (say 5yr tenor, to be 10mm notional), then determine the short leg's notional so that they are cs01 neutral.\n",
    "    - Then take the difference of cash carry rolldown between the long leg and the short leg."
   ]
  },
  {
   "cell_type": "markdown",
   "id": "50f1aee5",
   "metadata": {},
   "source": [
    "(Notes on empirical factor)"
   ]
  }
 ],
 "metadata": {
  "kernelspec": {
   "display_name": "Python 3 (ipykernel)",
   "language": "python",
   "name": "python3"
  },
  "language_info": {
   "codemirror_mode": {
    "name": "ipython",
    "version": 3
   },
   "file_extension": ".py",
   "mimetype": "text/x-python",
   "name": "python",
   "nbconvert_exporter": "python",
   "pygments_lexer": "ipython3",
   "version": "3.9.7"
  }
 },
 "nbformat": 4,
 "nbformat_minor": 5
}
